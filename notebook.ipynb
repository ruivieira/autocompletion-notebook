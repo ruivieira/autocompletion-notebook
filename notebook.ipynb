{
 "cells": [
  {
   "cell_type": "markdown",
   "metadata": {},
   "source": [
    "# Naive Bayes"
   ]
  },
  {
   "cell_type": "markdown",
   "metadata": {},
   "source": [
    "A probabilistic classifier.\n",
    "Given $n$ _attributes_, that is\n",
    "\n",
    "$$\n",
    "\\text{attributes} = \\lbrace{a_1, a_2, a_3, \\dots, a_n \\rbrace},\n",
    "$$\n",
    "\n",
    "and a set of $k$ _labels_, we can calculate the conditional probability of each label given a certain set of attributes. That is:\n",
    "\n",
    "$$\n",
    "p\\left(L_k|a_1, a_2, a_3,\\dots,a_n\\right)\n",
    "$$.\n",
    "\n",
    "This is done by direct application of Baye's theorem:\n",
    "\n",
    "$$\n",
    "p\\left(L_k|a_1,a_2,a_3,\\dots,a_n\\right) = \\frac{p\\left(L_k\\right)p\\left(a_1,a_2,a_3,\\dots,a_n|L_k\\right)}{p\\left(a_1,a_2,a_3,\\dots,a_n\\right)}\n",
    "$$\n",
    "\n",
    "## Example\n",
    "\n",
    "For the following minimal example a Java implementation of the Naive Bayes algorithm will be used (available at https://github.com/ruivieira/java-naive-bayes).\n",
    "\n",
    "Consider a simple IT purchasing system where the user can choose a laptop brand (`Apple` or `Lenovo`) for use in a specific department (`design` or `accounting`) in one of two offices (`US` or `UK`).\n",
    "\n",
    "In this case, NB will try to classify the laptop brand according to the historical purchase data. It is clear then that the attributes will be:\n",
    "\n",
    "$$\n",
    "    a = \\lbrace\\text{user}, \\text{department}, \\text{office}\\rbrace\n",
    "$$\n",
    "\n",
    "and the labels will be\n",
    "\n",
    "$$\n",
    "    L = \\lbrace\\text{Brand A}, \\text{Brand B}\\rbrace\n",
    "$$\n",
    "\n",
    "| user   | department  | office | brand |\n",
    "|--------|-------------|--------|-------|\n",
    "| Anna   | design      |US      |Apple  |\n",
    "| Anna   | accounting  |US      |Lenovo |\n",
    "| Bill   | design      |US      |Apple  |\n",
    "| Bill   | accounting  |US      |Lenovo |\n",
    "| Bill   | design      |UK      |Apple  |\n",
    "| Bill   | accounting  |UK      |Lenovo |\n",
    "| Claire | design      |US      |Lenovo |\n",
    "| Claire | accounting  |US      |Lenovo |\n",
    "| Claire | design      |UK      |Lenovo |\n",
    "| Claire | accounting  |UK      |Lenovo |\n",
    "| Dennis | design      |US      |Apple  |\n",
    "| Dennis | accounting  |US      |Apple  |\n",
    "| Dennis | design      |UK      |Apple  |\n",
    "| Dennis | accounting  |UK      |Apple  |\n"
   ]
  },
  {
   "cell_type": "code",
   "execution_count": 1,
   "metadata": {},
   "outputs": [],
   "source": [
    "%maven org.ruivieira:naivebayes:0.1-SNAPSHOT"
   ]
  },
  {
   "cell_type": "code",
   "execution_count": 2,
   "metadata": {},
   "outputs": [],
   "source": [
    "import org.ruivieira.ml.naivebayes.NaiveBayes;\n",
    "import org.ruivieira.ml.naivebayes.Model;\n",
    "\n",
    "import java.util.Map;"
   ]
  },
  {
   "cell_type": "code",
   "execution_count": 3,
   "metadata": {},
   "outputs": [],
   "source": [
    "Model model = Model.create();"
   ]
  },
  {
   "cell_type": "markdown",
   "metadata": {},
   "source": [
    "Let's start by adding the first record. User Anna buys an Apple for the US design department."
   ]
  },
  {
   "cell_type": "code",
   "execution_count": 4,
   "metadata": {},
   "outputs": [],
   "source": [
    "model.train(new String[]{\"Anna\", \"design\", \"US\"}, \"Apple\");"
   ]
  },
  {
   "cell_type": "markdown",
   "metadata": {},
   "source": [
    "If we try to predict that label (outcome) for any of the attributes, the result will be unsurprising:"
   ]
  },
  {
   "cell_type": "code",
   "execution_count": 5,
   "metadata": {},
   "outputs": [
    {
     "name": "stdout",
     "output_type": "stream",
     "text": [
      "Anna: {Apple=100.0}\n",
      "design: {Apple=100.0}\n",
      "US: {Apple=100.0}\n"
     ]
    }
   ],
   "source": [
    "NaiveBayes naiveBayes = new NaiveBayes(model);\n",
    "System.out.println(\"Anna: \" + naiveBayes.classify(new String[]{\"Anna\"}).toString());\n",
    "System.out.println(\"design: \" + naiveBayes.classify(new String[]{\"design\"}).toString());\n",
    "System.out.println(\"US: \" + naiveBayes.classify(new String[]{\"US\"}).toString());"
   ]
  },
  {
   "cell_type": "markdown",
   "metadata": {},
   "source": [
    "We now add a purchase for a Lenovo for US accounting department."
   ]
  },
  {
   "cell_type": "code",
   "execution_count": 6,
   "metadata": {},
   "outputs": [
    {
     "name": "stdout",
     "output_type": "stream",
     "text": [
      "Anna: {Lenovo=50.0, Apple=50.0}\n",
      "design: {Lenovo=5.0E-9, Apple=50.0}\n",
      "US: {Lenovo=50.0, Apple=50.0}\n"
     ]
    }
   ],
   "source": [
    "model.train(new String[]{\"Anna\", \"accounting\", \"US\"}, \"Lenovo\");\n",
    "naiveBayes = new NaiveBayes(model);\n",
    "System.out.println(\"Anna: \" + naiveBayes.classify(new String[]{\"Anna\"}).toString());\n",
    "System.out.println(\"design: \" + naiveBayes.classify(new String[]{\"design\"}).toString());\n",
    "System.out.println(\"US: \" + naiveBayes.classify(new String[]{\"US\"}).toString());"
   ]
  },
  {
   "cell_type": "markdown",
   "metadata": {},
   "source": [
    "Nothing we couldn't figure out ourselves, yet. Anna is 50/50 as likely to buy a Lenovo or an Apple. The design department is more likely to get an Apple (50% vs. ~0%) and the US office is as likely to get a Lenovo or an Apple.\n",
    "\n",
    "Let's now add a second user, Bill. Bill makes the same purchasing choices as Anna, but he also buys for the UK office."
   ]
  },
  {
   "cell_type": "code",
   "execution_count": 7,
   "metadata": {},
   "outputs": [],
   "source": [
    "model.train(new String[]{\"Bill\", \"accounting\", \"US\"}, \"Lenovo\");\n",
    "model.train(new String[]{\"Bill\", \"design\", \"US\"}, \"Apple\");\n",
    "model.train(new String[]{\"Bill\", \"accounting\", \"UK\"}, \"Lenovo\");\n",
    "model.train(new String[]{\"Bill\", \"design\", \"UK\"}, \"Apple\");"
   ]
  },
  {
   "cell_type": "code",
   "execution_count": 8,
   "metadata": {},
   "outputs": [
    {
     "name": "stdout",
     "output_type": "stream",
     "text": [
      "Anna: {Lenovo=16.666666666666664, Apple=16.666666666666664}\n",
      "Bill: {Lenovo=16.666666666666664, Apple=16.666666666666664}\n",
      "design: {Lenovo=5.0E-9, Apple=50.0}\n",
      "US: {Lenovo=33.33333333333333, Apple=33.33333333333333}\n"
     ]
    }
   ],
   "source": [
    "naiveBayes = new NaiveBayes(model);\n",
    "System.out.println(\"Anna: \" + naiveBayes.classify(new String[]{\"Anna\"}).toString());\n",
    "System.out.println(\"Bill: \" + naiveBayes.classify(new String[]{\"Anna\"}).toString());\n",
    "System.out.println(\"design: \" + naiveBayes.classify(new String[]{\"design\"}).toString());\n",
    "System.out.println(\"US: \" + naiveBayes.classify(new String[]{\"US\"}).toString());"
   ]
  },
  {
   "cell_type": "markdown",
   "metadata": {},
   "source": [
    "Still nothing surprising. However, one of the strengths of NB is the ability to combine attributes to get insights. Let's see that adding another user, Claire. Claire will buy Lenovos for all the offices and departments."
   ]
  },
  {
   "cell_type": "code",
   "execution_count": 9,
   "metadata": {},
   "outputs": [],
   "source": [
    "model.train(new String[]{\"Claire\", \"accounting\", \"US\"}, \"Lenovo\");\n",
    "model.train(new String[]{\"Claire\", \"design\", \"US\"}, \"Lenovo\");\n",
    "model.train(new String[]{\"Claire\", \"accounting\", \"UK\"}, \"Lenovo\");\n",
    "model.train(new String[]{\"Claire\", \"design\", \"UK\"}, \"Lenovo\");"
   ]
  },
  {
   "cell_type": "code",
   "execution_count": 10,
   "metadata": {},
   "outputs": [
    {
     "name": "stdout",
     "output_type": "stream",
     "text": [
      "Claire: {Lenovo=40.0, Apple=3.0E-9}\n",
      "design: {Lenovo=20.0, Apple=30.0}\n",
      "design US: {Lenovo=11.428571428571427, Apple=20.0}\n",
      "Bill accounting: {Lenovo=70.0, Apple=30.0}\n"
     ]
    }
   ],
   "source": [
    "naiveBayes = new NaiveBayes(model);\n",
    "System.out.println(\"Claire: \" + naiveBayes.classify(new String[]{\"Claire\"}).toString());\n",
    "System.out.println(\"design: \" + naiveBayes.classify(new String[]{\"design\"}).toString());\n",
    "System.out.println(\"design US: \" + naiveBayes.classify(new String[]{\"design\", \"US\"}).toString());\n",
    "System.out.println(\"Bill accounting: \" + naiveBayes.classify(new String[]{\"Bill accounting\"}).toString());"
   ]
  },
  {
   "cell_type": "markdown",
   "metadata": {},
   "source": [
    "Here we start to see the usefulness of combining attributes."
   ]
  },
  {
   "cell_type": "markdown",
   "metadata": {},
   "source": [
    "# Random forests\n",
    "\n",
    "To understand Random Forests (RF) we need to start with Decision Trees (DT).\n",
    "\n",
    "## Decision Trees\n",
    "\n",
    "A DT is a data structure that allows to model a logic flow in a tree-like structure (parent and children nodes) based on cost funtion (in this case the path's _entropy_). The following examples are performed using a Java implementation of DT/RF (https://github.com/ruivieira/java-decision-tree). Let's start by creating a `Dataset` to hold the training data and add all the same input as in the NB example."
   ]
  },
  {
   "cell_type": "code",
   "execution_count": 11,
   "metadata": {},
   "outputs": [],
   "source": [
    "%maven org.ruivieira:decisiontree:0.0.2"
   ]
  },
  {
   "cell_type": "code",
   "execution_count": 12,
   "metadata": {},
   "outputs": [],
   "source": [
    "import org.ruivieira.ml.decisiontree.features.*;\n",
    "import org.ruivieira.ml.decisiontree.*;\n",
    "import java.util.logging.*;\n",
    "Logger.getGlobal().setLevel(Level.WARNING);"
   ]
  },
  {
   "cell_type": "code",
   "execution_count": 13,
   "metadata": {},
   "outputs": [],
   "source": [
    "final Dataset data = Dataset.create();"
   ]
  },
  {
   "cell_type": "markdown",
   "metadata": {},
   "source": [
    "The following is just a helper function to reduce the verbosity of the code."
   ]
  },
  {
   "cell_type": "code",
   "execution_count": 14,
   "metadata": {},
   "outputs": [],
   "source": [
    "public void add(Dataset data, String user, String dpt, String office, String brand) {\n",
    "    final Item item = Item.create();\n",
    "    item.add(\"user\", new StringValue(user));\n",
    "    item.add(\"department\", new StringValue(dpt));\n",
    "    item.add(\"office\", new StringValue(office));\n",
    "    item.add(\"brand\", new StringValue(brand));\n",
    "    data.add(item);\n",
    "}"
   ]
  },
  {
   "cell_type": "code",
   "execution_count": 15,
   "metadata": {},
   "outputs": [],
   "source": [
    "add(data, \"Anna\", \"accounting\", \"US\", \"Lenovo\");\n",
    "add(data, \"Anna\", \"design\", \"US\", \"Apple\");\n",
    "add(data, \"Bill\", \"accounting\", \"US\", \"Lenovo\");\n",
    "add(data, \"Bill\", \"design\", \"US\", \"Apple\");\n",
    "add(data, \"Bill\", \"accounting\", \"UK\", \"Lenovo\");\n",
    "add(data, \"Bill\", \"design\", \"UK\", \"Apple\");\n",
    "add(data, \"Claire\", \"accounting\", \"US\", \"Lenovo\");\n",
    "add(data, \"Claire\", \"design\", \"US\", \"Lenovo\");\n",
    "add(data, \"Claire\", \"accounting\", \"UK\", \"Lenovo\");\n",
    "add(data, \"Claire\", \"design\", \"UK\", \"Lenovo\");\n",
    "add(data, \"Dennis\", \"accounting\", \"US\", \"Apple\");\n",
    "add(data, \"Dennis\", \"design\", \"US\", \"Apple\");\n",
    "add(data, \"Dennis\", \"accounting\", \"UK\", \"Apple\");\n",
    "add(data, \"Dennis\", \"design\", \"UK\", \"Apple\");"
   ]
  },
  {
   "cell_type": "markdown",
   "metadata": {},
   "source": [
    "Let's now re-run the NB examples and compare the results. First we want to ask a question to the DT: What is the `brand` that `Anna` chooses?"
   ]
  },
  {
   "cell_type": "code",
   "execution_count": 16,
   "metadata": {},
   "outputs": [
    {
     "name": "stdout",
     "output_type": "stream",
     "text": [
      "StringValue{data='Apple'}\n"
     ]
    }
   ],
   "source": [
    "TreeConfig config = TreeConfig.create();\n",
    "config.setData(data);\n",
    "config.setDecision(\"brand\");\n",
    "DecisionTree dt = DecisionTree.create(config);\n",
    "\n",
    "Item question = Item.create();\n",
    "question.add(\"user\", new StringValue(\"Anna\"));\n",
    "\n",
    "System.out.println(dt.predict(question));"
   ]
  },
  {
   "cell_type": "markdown",
   "metadata": {},
   "source": [
    "Straight away we can see the problem. Where NB gave a probabilist answer, \"Anna is 50%/50% likely to buy a Lenovo or Apple\", DT provide a single answer. Let's ask another question. Which is the `brand` most likely for the `design` department?"
   ]
  },
  {
   "cell_type": "code",
   "execution_count": 17,
   "metadata": {},
   "outputs": [
    {
     "name": "stdout",
     "output_type": "stream",
     "text": [
      "StringValue{data='Apple'}\n"
     ]
    }
   ],
   "source": [
    "Item question = Item.create();\n",
    "question.add(\"department\", new StringValue(\"design\"));\n",
    "\n",
    "System.out.println(dt.predict(question));"
   ]
  },
  {
   "cell_type": "markdown",
   "metadata": {},
   "source": [
    "So how do we get a range of answers, along with weights or probabilities?\n",
    "The solution is use RFs. Basically we build and ensemble of DTs, each trained with a random sub-sample of the data, and then we aggregate the individual answers from each tree.\n",
    "\n",
    "## Random Forests"
   ]
  },
  {
   "cell_type": "markdown",
   "metadata": {},
   "source": [
    "First we create a helper function to convert the prediction totals to a percentage:"
   ]
  },
  {
   "cell_type": "code",
   "execution_count": 18,
   "metadata": {},
   "outputs": [],
   "source": [
    "public void percentages(Map<Value, Integer> pred) {\n",
    "    double total = 0.0;\n",
    "    for (Integer value : pred.values()) {\n",
    "        total += value.doubleValue();\n",
    "    }\n",
    "    Map<Value, Double> perc = new HashMap<>();\n",
    "    for (Value value : pred.keySet()) {\n",
    "        perc.put(value, pred.get(value).doubleValue()*100.0/total);\n",
    "    }\n",
    "    System.out.println(perc);\n",
    "}"
   ]
  },
  {
   "cell_type": "code",
   "execution_count": 19,
   "metadata": {},
   "outputs": [
    {
     "name": "stdout",
     "output_type": "stream",
     "text": [
      "{StringValue{data='Lenovo'}=56.25, StringValue{data='Apple'}=43.75}\n"
     ]
    }
   ],
   "source": [
    "final RandomForest forest = RandomForest.create(config, 80, 6);\n",
    "\n",
    "question = Item.create();\n",
    "question.add(\"user\", new StringValue(\"Anna\"));\n",
    "\n",
    "percentages(forest.predict(question));"
   ]
  },
  {
   "cell_type": "code",
   "execution_count": 20,
   "metadata": {},
   "outputs": [
    {
     "name": "stdout",
     "output_type": "stream",
     "text": [
      "{StringValue{data='Lenovo'}=76.25, StringValue{data='Apple'}=23.75}\n"
     ]
    }
   ],
   "source": [
    "question = Item.create();\n",
    "question.add(\"user\", new StringValue(\"Anna\"));\n",
    "question.add(\"department\", new StringValue(\"accounting\"));\n",
    "\n",
    "percentages(forest.predict(question));"
   ]
  },
  {
   "cell_type": "code",
   "execution_count": 21,
   "metadata": {},
   "outputs": [
    {
     "name": "stderr",
     "output_type": "stream",
     "text": [
      "[IJava-executor-0] WARN org.ruivieira.ml.decisiontree.DecisionTree - Can't find best split.\n",
      "[IJava-executor-0] WARN org.ruivieira.ml.decisiontree.DecisionTree - Can't find best split.\n",
      "[IJava-executor-0] WARN org.ruivieira.ml.decisiontree.DecisionTree - Can't find best split.\n",
      "[IJava-executor-0] WARN org.ruivieira.ml.decisiontree.DecisionTree - Can't find best split.\n",
      "[IJava-executor-0] WARN org.ruivieira.ml.decisiontree.DecisionTree - Can't find best split.\n",
      "[IJava-executor-0] WARN org.ruivieira.ml.decisiontree.DecisionTree - Can't find best split.\n",
      "[IJava-executor-0] WARN org.ruivieira.ml.decisiontree.DecisionTree - Can't find best split.\n",
      "[IJava-executor-0] WARN org.ruivieira.ml.decisiontree.DecisionTree - Can't find best split.\n",
      "[IJava-executor-0] WARN org.ruivieira.ml.decisiontree.DecisionTree - Can't find best split.\n",
      "[IJava-executor-0] WARN org.ruivieira.ml.decisiontree.DecisionTree - Can't find best split.\n",
      "[IJava-executor-0] WARN org.ruivieira.ml.decisiontree.DecisionTree - Can't find best split.\n",
      "[IJava-executor-0] WARN org.ruivieira.ml.decisiontree.DecisionTree - Can't find best split.\n",
      "[IJava-executor-0] WARN org.ruivieira.ml.decisiontree.DecisionTree - Can't find best split.\n",
      "[IJava-executor-0] WARN org.ruivieira.ml.decisiontree.DecisionTree - Can't find best split.\n",
      "[IJava-executor-0] WARN org.ruivieira.ml.decisiontree.DecisionTree - Can't find best split.\n",
      "[IJava-executor-0] WARN org.ruivieira.ml.decisiontree.DecisionTree - Can't find best split.\n",
      "[IJava-executor-0] WARN org.ruivieira.ml.decisiontree.DecisionTree - Can't find best split.\n",
      "[IJava-executor-0] WARN org.ruivieira.ml.decisiontree.DecisionTree - Can't find best split.\n",
      "[IJava-executor-0] WARN org.ruivieira.ml.decisiontree.DecisionTree - Can't find best split.\n",
      "[IJava-executor-0] WARN org.ruivieira.ml.decisiontree.DecisionTree - Can't find best split.\n",
      "[IJava-executor-0] WARN org.ruivieira.ml.decisiontree.DecisionTree - Can't find best split.\n",
      "[IJava-executor-0] WARN org.ruivieira.ml.decisiontree.DecisionTree - Can't find best split.\n",
      "[IJava-executor-0] WARN org.ruivieira.ml.decisiontree.DecisionTree - Can't find best split.\n",
      "[IJava-executor-0] WARN org.ruivieira.ml.decisiontree.DecisionTree - Can't find best split.\n",
      "[IJava-executor-0] WARN org.ruivieira.ml.decisiontree.DecisionTree - Can't find best split.\n",
      "[IJava-executor-0] WARN org.ruivieira.ml.decisiontree.DecisionTree - Can't find best split.\n",
      "[IJava-executor-0] WARN org.ruivieira.ml.decisiontree.DecisionTree - Can't find best split.\n",
      "[IJava-executor-0] WARN org.ruivieira.ml.decisiontree.DecisionTree - Can't find best split.\n",
      "[IJava-executor-0] WARN org.ruivieira.ml.decisiontree.DecisionTree - Can't find best split.\n",
      "[IJava-executor-0] WARN org.ruivieira.ml.decisiontree.DecisionTree - Can't find best split.\n",
      "[IJava-executor-0] WARN org.ruivieira.ml.decisiontree.DecisionTree - Can't find best split.\n",
      "[IJava-executor-0] WARN org.ruivieira.ml.decisiontree.DecisionTree - Can't find best split.\n",
      "[IJava-executor-0] WARN org.ruivieira.ml.decisiontree.DecisionTree - Can't find best split.\n",
      "[IJava-executor-0] WARN org.ruivieira.ml.decisiontree.DecisionTree - Can't find best split.\n",
      "[IJava-executor-0] WARN org.ruivieira.ml.decisiontree.DecisionTree - Can't find best split.\n",
      "[IJava-executor-0] WARN org.ruivieira.ml.decisiontree.DecisionTree - Can't find best split.\n",
      "[IJava-executor-0] WARN org.ruivieira.ml.decisiontree.DecisionTree - Can't find best split.\n",
      "[IJava-executor-0] WARN org.ruivieira.ml.decisiontree.DecisionTree - Can't find best split.\n",
      "[IJava-executor-0] WARN org.ruivieira.ml.decisiontree.DecisionTree - Can't find best split.\n",
      "[IJava-executor-0] WARN org.ruivieira.ml.decisiontree.DecisionTree - Can't find best split.\n",
      "[IJava-executor-0] WARN org.ruivieira.ml.decisiontree.DecisionTree - Can't find best split.\n",
      "[IJava-executor-0] WARN org.ruivieira.ml.decisiontree.DecisionTree - Can't find best split.\n",
      "[IJava-executor-0] WARN org.ruivieira.ml.decisiontree.DecisionTree - Can't find best split.\n",
      "[IJava-executor-0] WARN org.ruivieira.ml.decisiontree.DecisionTree - Can't find best split.\n",
      "[IJava-executor-0] WARN org.ruivieira.ml.decisiontree.DecisionTree - Can't find best split.\n",
      "[IJava-executor-0] WARN org.ruivieira.ml.decisiontree.DecisionTree - Can't find best split.\n",
      "[IJava-executor-0] WARN org.ruivieira.ml.decisiontree.DecisionTree - Can't find best split.\n",
      "[IJava-executor-0] WARN org.ruivieira.ml.decisiontree.DecisionTree - Can't find best split.\n",
      "[IJava-executor-0] WARN org.ruivieira.ml.decisiontree.DecisionTree - Can't find best split.\n",
      "[IJava-executor-0] WARN org.ruivieira.ml.decisiontree.DecisionTree - Can't find best split.\n",
      "[IJava-executor-0] WARN org.ruivieira.ml.decisiontree.DecisionTree - Can't find best split.\n",
      "[IJava-executor-0] WARN org.ruivieira.ml.decisiontree.DecisionTree - Can't find best split.\n",
      "[IJava-executor-0] WARN org.ruivieira.ml.decisiontree.DecisionTree - Can't find best split.\n",
      "[IJava-executor-0] WARN org.ruivieira.ml.decisiontree.DecisionTree - Can't find best split.\n",
      "[IJava-executor-0] WARN org.ruivieira.ml.decisiontree.DecisionTree - Can't find best split.\n",
      "[IJava-executor-0] WARN org.ruivieira.ml.decisiontree.DecisionTree - Can't find best split.\n",
      "[IJava-executor-0] WARN org.ruivieira.ml.decisiontree.DecisionTree - Can't find best split.\n",
      "[IJava-executor-0] WARN org.ruivieira.ml.decisiontree.DecisionTree - Can't find best split.\n",
      "[IJava-executor-0] WARN org.ruivieira.ml.decisiontree.DecisionTree - Can't find best split.\n",
      "[IJava-executor-0] WARN org.ruivieira.ml.decisiontree.DecisionTree - Can't find best split.\n",
      "[IJava-executor-0] WARN org.ruivieira.ml.decisiontree.DecisionTree - Can't find best split.\n",
      "[IJava-executor-0] WARN org.ruivieira.ml.decisiontree.DecisionTree - Can't find best split.\n",
      "[IJava-executor-0] WARN org.ruivieira.ml.decisiontree.DecisionTree - Can't find best split.\n",
      "[IJava-executor-0] WARN org.ruivieira.ml.decisiontree.DecisionTree - Can't find best split.\n",
      "[IJava-executor-0] WARN org.ruivieira.ml.decisiontree.DecisionTree - Can't find best split.\n",
      "[IJava-executor-0] WARN org.ruivieira.ml.decisiontree.DecisionTree - Can't find best split.\n",
      "[IJava-executor-0] WARN org.ruivieira.ml.decisiontree.DecisionTree - Can't find best split.\n",
      "[IJava-executor-0] WARN org.ruivieira.ml.decisiontree.DecisionTree - Can't find best split.\n",
      "[IJava-executor-0] WARN org.ruivieira.ml.decisiontree.DecisionTree - Can't find best split.\n",
      "[IJava-executor-0] WARN org.ruivieira.ml.decisiontree.DecisionTree - Can't find best split.\n",
      "[IJava-executor-0] WARN org.ruivieira.ml.decisiontree.DecisionTree - Can't find best split.\n",
      "[IJava-executor-0] WARN org.ruivieira.ml.decisiontree.DecisionTree - Can't find best split.\n",
      "[IJava-executor-0] WARN org.ruivieira.ml.decisiontree.DecisionTree - Can't find best split.\n",
      "[IJava-executor-0] WARN org.ruivieira.ml.decisiontree.DecisionTree - Can't find best split.\n",
      "[IJava-executor-0] WARN org.ruivieira.ml.decisiontree.DecisionTree - Can't find best split.\n",
      "[IJava-executor-0] WARN org.ruivieira.ml.decisiontree.DecisionTree - Can't find best split.\n",
      "[IJava-executor-0] WARN org.ruivieira.ml.decisiontree.DecisionTree - Can't find best split.\n",
      "[IJava-executor-0] WARN org.ruivieira.ml.decisiontree.DecisionTree - Can't find best split.\n",
      "[IJava-executor-0] WARN org.ruivieira.ml.decisiontree.DecisionTree - Can't find best split.\n",
      "[IJava-executor-0] WARN org.ruivieira.ml.decisiontree.DecisionTree - Can't find best split.\n",
      "[IJava-executor-0] WARN org.ruivieira.ml.decisiontree.DecisionTree - Can't find best split.\n"
     ]
    }
   ],
   "source": [
    "TreeConfig config = TreeConfig.create();\n",
    "config.setData(data);\n",
    "config.setDecision(\"user\");\n",
    "final RandomForest forest = RandomForest.create(config, 80, 6);"
   ]
  },
  {
   "cell_type": "code",
   "execution_count": 22,
   "metadata": {},
   "outputs": [
    {
     "name": "stdout",
     "output_type": "stream",
     "text": [
      "{StringValue{data='Anna'}=27.5, StringValue{data='Dennis'}=2.5, StringValue{data='Claire'}=46.25, StringValue{data='Bill'}=23.75}\n"
     ]
    }
   ],
   "source": [
    "question = Item.create();\n",
    "question.add(\"brand\", new StringValue(\"Lenovo\"));\n",
    "question.add(\"department\", new StringValue(\"accounting\"));\n",
    "\n",
    "percentages(forest.predict(question));"
   ]
  },
  {
   "cell_type": "markdown",
   "metadata": {},
   "source": [
    "## Numeric values"
   ]
  },
  {
   "cell_type": "markdown",
   "metadata": {},
   "source": [
    "Let's now assume we have a numeric value field to consider when learning from the data.\n",
    "NB would only assume the attributa _nominally_, that is not considering the distance between attributes, DFs can help us make a prediction based on a quantitative difference between attributes.\n",
    "This is possibly best explained with an example. Let's say we now have a new field called `price` representing the cost of each laptop. To make the example more realistic let's add some variation to the prices and say Lenovos price is in the region of £1500 and Apples in the £2500 region. The actual data used is the following:\n",
    "\n",
    "| user   | department  | office | brand | price |\n",
    "|--------|-------------|--------|-------|-------|\n",
    "| Anna   | design      |US      |Apple  |2500.0 |\n",
    "| Anna   | accounting  |US      |Lenovo |1500.0 |\n",
    "| Bill   | design      |US      |Apple  |2630.0 |\n",
    "| Bill   | accounting  |US      |Lenovo |1640.0 |\n",
    "| Bill   | design      |UK      |Apple  |2590.0 |\n",
    "| Bill   | accounting  |UK      |Lenovo |1690.0 |\n",
    "| Claire | design      |US      |Lenovo |1580.0 |\n",
    "| Claire | accounting  |US      |Lenovo |1490.0 |\n",
    "| Claire | design      |UK      |Lenovo |1620.0 |\n",
    "| Claire | accounting  |UK      |Lenovo |1535.0 |\n",
    "| Dennis | design      |US      |Apple  |2700.0 |\n",
    "| Dennis | accounting  |US      |Apple  |2660.0 |\n",
    "| Dennis | design      |UK      |Apple  |2590.0 |\n",
    "| Dennis | accounting  |UK      |Apple  |2577.0 |\n",
    "\n",
    "Let's start by adding this to the dataset."
   ]
  },
  {
   "cell_type": "code",
   "execution_count": 23,
   "metadata": {},
   "outputs": [],
   "source": [
    "public void add(Dataset data, String user, String dpt, String office, String brand, double price) {\n",
    "    final Item item = Item.create();\n",
    "    item.add(\"user\", new StringValue(user));\n",
    "    item.add(\"department\", new StringValue(dpt));\n",
    "    item.add(\"office\", new StringValue(office));\n",
    "    item.add(\"brand\", new StringValue(brand));\n",
    "    item.add(\"price\", new DoubleValue(price));\n",
    "    data.add(item);\n",
    "}"
   ]
  },
  {
   "cell_type": "code",
   "execution_count": 24,
   "metadata": {},
   "outputs": [],
   "source": [
    "final Dataset data = Dataset.create();\n",
    "add(data, \"Anna\", \"accounting\", \"US\", \"Lenovo\", 1500.0);\n",
    "add(data, \"Anna\", \"design\", \"US\", \"Apple\", 2500.0);\n",
    "add(data, \"Bill\", \"accounting\", \"US\", \"Lenovo\", 1640.0);\n",
    "add(data, \"Bill\", \"design\", \"US\", \"Apple\", 2630.0);\n",
    "add(data, \"Bill\", \"accounting\", \"UK\", \"Lenovo\", 1690.0);\n",
    "add(data, \"Bill\", \"design\", \"UK\", \"Apple\", 2590.0);\n",
    "add(data, \"Claire\", \"accounting\", \"US\", \"Lenovo\", 1580.0);\n",
    "add(data, \"Claire\", \"design\", \"US\", \"Lenovo\", 1490.0);\n",
    "add(data, \"Claire\", \"accounting\", \"UK\", \"Lenovo\", 1620.0);\n",
    "add(data, \"Claire\", \"design\", \"UK\", \"Lenovo\", 1535.0);\n",
    "add(data, \"Dennis\", \"accounting\", \"US\", \"Apple\", 2660.0);\n",
    "add(data, \"Dennis\", \"design\", \"US\", \"Apple\", 2700.0);\n",
    "add(data, \"Dennis\", \"accounting\", \"UK\", \"Apple\", 2577.0);\n",
    "add(data, \"Dennis\", \"design\", \"UK\", \"Apple\", 2590.0);"
   ]
  },
  {
   "cell_type": "code",
   "execution_count": 25,
   "metadata": {},
   "outputs": [],
   "source": [
    "TreeConfig config = TreeConfig.create();\n",
    "config.setData(data);\n",
    "config.setDecision(\"brand\");\n",
    "final RandomForest forest = RandomForest.create(config, 80, 6);"
   ]
  },
  {
   "cell_type": "code",
   "execution_count": 26,
   "metadata": {},
   "outputs": [
    {
     "name": "stdout",
     "output_type": "stream",
     "text": [
      "{StringValue{data='Apple'}=81.25, StringValue{data='Lenovo'}=18.75}\n"
     ]
    }
   ],
   "source": [
    "question = Item.create();\n",
    "question.add(\"price\", new DoubleValue(2600.0));\n",
    "\n",
    "percentages(forest.predict(question));"
   ]
  },
  {
   "cell_type": "code",
   "execution_count": 67,
   "metadata": {},
   "outputs": [
    {
     "name": "stdout",
     "output_type": "stream",
     "text": [
      "{StringValue{data='Apple'}=68.75, StringValue{data='Lenovo'}=31.25}\n"
     ]
    }
   ],
   "source": [
    "question = Item.create();\n",
    "question.add(\"price\", new DoubleValue(2600.0));\n",
    "question.add(\"user\", new StringValue(\"Claire\"));\n",
    "question.add(\"department\", new StringValue(\"accounting\"));\n",
    "\n",
    "percentages(forest.predict(question));"
   ]
  },
  {
   "cell_type": "code",
   "execution_count": null,
   "metadata": {},
   "outputs": [],
   "source": []
  },
  {
   "cell_type": "code",
   "execution_count": null,
   "metadata": {},
   "outputs": [],
   "source": []
  }
 ],
 "metadata": {
  "kernelspec": {
   "display_name": "Java",
   "language": "java",
   "name": "java"
  },
  "language_info": {
   "codemirror_mode": "java",
   "file_extension": ".java",
   "mimetype": "text/x-java-source",
   "name": "Java",
   "pygments_lexer": "java",
   "version": "9.0.1+11"
  }
 },
 "nbformat": 4,
 "nbformat_minor": 2
}
